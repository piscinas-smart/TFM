{
 "cells": [
  {
   "cell_type": "markdown",
   "metadata": {},
   "source": [
    "<!img src=\"mbit-logo-pequeño.png\" align=\"right\" style=\"float\" width=\"50\">\n",
    "<font color=\"#CA3532\"><h1 align=\"left\">MBIT School. Master Big Data Cloud y Analytics</h1></font>\n",
    "<font color=\"#CA3532\"><h2 align=\"left\">M11-Trabajo Fin de Máster y Datatones</h2></font>\n",
    "<font color=\"#CA3532\"><h2 align=\"left\">Submódulo-DC02 Trabajo Fin de Máster</h2></font>\n",
    "<font color=\"#CA3532\"><h2 align=\"left\">S.M.A.R.T. Swim MApping, Reporting & Training</h2></font>\n",
    "<font ><h1 align=\"left\"></h1></font>\n",
    "<font ><h3 align=\"left\">Interfaz gestión de la piscina</h2></font>"
   ]
  },
  {
   "cell_type": "markdown",
   "metadata": {},
   "source": [
    "### Imports"
   ]
  },
  {
   "cell_type": "code",
   "execution_count": null,
   "metadata": {},
   "outputs": [],
   "source": [
    "from smart.simulador import piscina\n",
    "import random\n",
    "import time\n",
    "\n",
    "from IPython.display import clear_output"
   ]
  },
  {
   "cell_type": "markdown",
   "metadata": {},
   "source": [
    "### Valores"
   ]
  },
  {
   "cell_type": "code",
   "execution_count": null,
   "metadata": {},
   "outputs": [],
   "source": [
    "ANCHO_PISCINA = 12.5\n",
    "LARGO_PISCINA = 25\n",
    "\n",
    "NADADORES     = 10\n",
    "TIEMPO_MIN    = 300\n",
    "TIEMPO_MAX    = 900\n",
    "\n",
    "REFRESCO      = 40 # En milisegundos\n",
    "\n",
    "MODO          = \"CSV\""
   ]
  },
  {
   "cell_type": "markdown",
   "metadata": {},
   "source": [
    "### Generar piscina"
   ]
  },
  {
   "cell_type": "code",
   "execution_count": null,
   "metadata": {},
   "outputs": [],
   "source": [
    "# Creamos la instancia piscina\n",
    "\n",
    "hay_error = False\n",
    "\n",
    "try:\n",
    "    mi_piscina = piscina.Piscina(LARGO_PISCINA, ANCHO_PISCINA, refresco=REFRESCO, output_mode=MODO)\n",
    "except:\n",
    "    hay_error = True\n",
    "else:\n",
    "    # Añadimos todos los nadadores\n",
    "\n",
    "    for _ in range(NADADORES):\n",
    "        \n",
    "        tiempo = random.randint(TIEMPO_MIN, TIEMPO_MAX)\n",
    "\n",
    "        try:\n",
    "            # Entra un nuevo nadador\n",
    "            \n",
    "            mi_piscina.nuevoNadador(tiempo)\n",
    "            \n",
    "            # Esperamos entre 1 y 3 segundos a que entre otro\n",
    "            \n",
    "            time.sleep(random.randint(1, 3))\n",
    "        except:\n",
    "            hay_error = True\n",
    "            break"
   ]
  },
  {
   "cell_type": "code",
   "execution_count": null,
   "metadata": {},
   "outputs": [],
   "source": [
    "# Monitorizamos\n",
    "\n",
    "if not hay_error:\n",
    "    while mi_piscina.abierta:\n",
    "        \n",
    "        clear_output(wait=True)\n",
    "\n",
    "        mi_piscina.printStatus()\n",
    "        \n",
    "    print(\"Piscina cerrada por inactividad\")"
   ]
  }
 ],
 "metadata": {
  "kernelspec": {
   "display_name": "Python 3",
   "language": "python",
   "name": "python3"
  },
  "language_info": {
   "codemirror_mode": {
    "name": "ipython",
    "version": 3
   },
   "file_extension": ".py",
   "mimetype": "text/x-python",
   "name": "python",
   "nbconvert_exporter": "python",
   "pygments_lexer": "ipython3",
   "version": "3.7.4"
  }
 },
 "nbformat": 4,
 "nbformat_minor": 2
}
