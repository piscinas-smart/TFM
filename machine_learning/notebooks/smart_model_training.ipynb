{
 "cells": [
  {
   "cell_type": "markdown",
   "metadata": {},
   "source": [
    "# S.Ma.R.T. MODEL TRAINING"
   ]
  },
  {
   "cell_type": "code",
   "execution_count": 1,
   "metadata": {},
   "outputs": [
    {
     "data": {
      "text/html": [
       "<style>.container { width:90% !important; }</style>"
      ],
      "text/plain": [
       "<IPython.core.display.HTML object>"
      ]
     },
     "metadata": {},
     "output_type": "display_data"
    }
   ],
   "source": [
    "# Se define el estilo de visualización del notebook:\n",
    "from IPython.core.display import display, HTML\n",
    "display(HTML(\"<style>.container { width:90% !important; }</style>\"))"
   ]
  },
  {
   "cell_type": "code",
   "execution_count": 2,
   "metadata": {},
   "outputs": [],
   "source": [
    "import time\n",
    "from datetime import timedelta\n",
    "start_time = time.time()"
   ]
  },
  {
   "cell_type": "code",
   "execution_count": 3,
   "metadata": {},
   "outputs": [],
   "source": [
    "import datetime as dt\n",
    "import numpy    as np\n",
    "import pandas   as pd \n",
    "import scipy\n",
    "\n",
    "extrae_id = lambda x : (x.strip('ObjectId').strip('(\")'))\n",
    "\n",
    "def remove_outliers_6sigma(X):\n",
    "    return X[abs(X - np.mean(X)) < 3 * np.std(X)]"
   ]
  },
  {
   "cell_type": "code",
   "execution_count": 4,
   "metadata": {},
   "outputs": [],
   "source": [
    "ruta = \"./dataset/all_data.csv\"\n",
    "df   = pd.read_csv(ruta, converters = {'_id':extrae_id , 'DrillID':extrae_id})"
   ]
  },
  {
   "cell_type": "code",
   "execution_count": 5,
   "metadata": {},
   "outputs": [],
   "source": [
    "df.sort_values(['TagID', 'DrillID', 'TimeStamp'], ascending=[True, True, True], inplace=True)"
   ]
  },
  {
   "cell_type": "code",
   "execution_count": 6,
   "metadata": {},
   "outputs": [],
   "source": [
    "if df.duplicated().sum() > 0:\n",
    "    df = df.drop_duplicates()"
   ]
  },
  {
   "cell_type": "code",
   "execution_count": 7,
   "metadata": {},
   "outputs": [],
   "source": [
    "df.drop(list(df.columns[df.apply(pd.Series.nunique)==1]), axis=1, inplace=True)"
   ]
  },
  {
   "cell_type": "code",
   "execution_count": 8,
   "metadata": {},
   "outputs": [],
   "source": [
    "if df.isnull().sum().sum() > 0:\n",
    "    df = df.fillna(0)"
   ]
  },
  {
   "cell_type": "code",
   "execution_count": 9,
   "metadata": {},
   "outputs": [],
   "source": [
    "df['PositionX'] = pd.to_numeric(df['Position'].str.strip('[]').str.split(pat=\",\" , expand = True)[0], downcast='float')"
   ]
  },
  {
   "cell_type": "code",
   "execution_count": 10,
   "metadata": {},
   "outputs": [],
   "source": [
    "df.drop(['Position'], axis=1, inplace=True)"
   ]
  },
  {
   "cell_type": "code",
   "execution_count": 11,
   "metadata": {},
   "outputs": [],
   "source": [
    "df['TimeStampDT'] = pd.to_datetime(df['TimeStamp'], unit='ms')"
   ]
  },
  {
   "cell_type": "code",
   "execution_count": 12,
   "metadata": {},
   "outputs": [],
   "source": [
    "df  = df[['_id', 'TagID', 'DrillID', 'TimeStamp', 'TimeStampDT', 'PositionX']]"
   ]
  },
  {
   "cell_type": "code",
   "execution_count": 13,
   "metadata": {},
   "outputs": [],
   "source": [
    "df[\"diff_posx_m\"]   = df[\"PositionX\"].diff().abs()\n",
    "df[\"diff_time_sec\"] = df[\"TimeStamp\"].diff().abs() / 1000\n",
    "df[\"LinearSpeed\"]   = df[\"diff_posx_m\"].div(df[\"diff_time_sec\"])\n",
    "df[\"Acceleration\"]  = df[\"diff_posx_m\"].div(df[\"diff_time_sec\"]**2)"
   ]
  },
  {
   "cell_type": "code",
   "execution_count": 14,
   "metadata": {},
   "outputs": [],
   "source": [
    "if df.isnull().sum().sum() > 0:\n",
    "    df = df.fillna(0)"
   ]
  },
  {
   "cell_type": "code",
   "execution_count": 15,
   "metadata": {},
   "outputs": [],
   "source": [
    "df = df.drop( (df[df['LinearSpeed']  > 1.56].index ) )\n",
    "df = df.drop( (df[df['Acceleration'] > 0.03].index ) )"
   ]
  },
  {
   "cell_type": "code",
   "execution_count": 16,
   "metadata": {},
   "outputs": [],
   "source": [
    "variables = [\"diff_posx_m\", \"diff_time_sec\", \"LinearSpeed\", \"Acceleration\"]"
   ]
  },
  {
   "cell_type": "code",
   "execution_count": 17,
   "metadata": {},
   "outputs": [],
   "source": [
    "df_aux1     = pd.merge(df     , pd.DataFrame(remove_outliers_6sigma(df[variables[0]].values)), how = 'left', left_index = True, \n",
    "                       right_index = True).rename(columns={0: variables[0] + '_no_outlier'})\n",
    "df_aux2     = pd.merge(df_aux1, pd.DataFrame(remove_outliers_6sigma(df[variables[1]].values)), how = 'left', left_index = True, \n",
    "                       right_index = True).rename(columns={0: variables[1] + '_no_outlier'})\n",
    "df_aux3     = pd.merge(df_aux2, pd.DataFrame(remove_outliers_6sigma(df[variables[2]].values)), how = 'left', left_index = True, \n",
    "                       right_index = True).rename(columns={0: variables[2] + '_no_outlier'})\n",
    "df_filtered = pd.merge(df_aux3, pd.DataFrame(remove_outliers_6sigma(df[variables[3]].values)), how = 'left', left_index = True, \n",
    "                       right_index = True).rename(columns={0: variables[3] + '_no_outlier'})\n",
    "\n",
    "df_filtered.dropna(inplace=True)"
   ]
  },
  {
   "cell_type": "code",
   "execution_count": 18,
   "metadata": {},
   "outputs": [],
   "source": [
    "df_filtered.drop(variables, axis=1, inplace=True)\n",
    "df_filtered.rename(columns={\"diff_posx_m_no_outlier\"  : \"diff_pos\",\n",
    "                            \"diff_time_sec_no_outlier\": \"diff_time\",\n",
    "                            \"LinearSpeed_no_outlier\"  : \"Speed\", \n",
    "                            \"Acceleration_no_outlier\" : \"Accel\"}, inplace=True)"
   ]
  },
  {
   "cell_type": "code",
   "execution_count": 19,
   "metadata": {},
   "outputs": [],
   "source": [
    "df  = df_filtered.copy()"
   ]
  },
  {
   "cell_type": "code",
   "execution_count": 20,
   "metadata": {},
   "outputs": [],
   "source": [
    "df_agg = df.groupby(['TagID', 'DrillID']).agg({'TimeStamp'  : ['min','max'],\n",
    "                                               'TimeStampDT': ['min','max'], \n",
    "                                               'PositionX'  : ['min','max', 'mean'], \n",
    "                                               'diff_pos'   : ['min','max', 'mean'],\n",
    "                                               'diff_time'  : ['min','max', 'mean'],\n",
    "                                               'Speed'      : ['min','max', 'mean'],\n",
    "                                               'Accel'      : ['min','max', 'mean']}).reset_index()"
   ]
  },
  {
   "cell_type": "code",
   "execution_count": 21,
   "metadata": {},
   "outputs": [],
   "source": [
    "df6 = df_agg.copy()"
   ]
  },
  {
   "cell_type": "code",
   "execution_count": 22,
   "metadata": {},
   "outputs": [
    {
     "name": "stderr",
     "output_type": "stream",
     "text": [
      "C:\\Users\\calfo\\Anaconda3\\envs\\env_ml\\lib\\site-packages\\pandas\\core\\generic.py:3936: PerformanceWarning: dropping on a non-lexsorted multi-index without a level parameter may impact performance.\n",
      "  obj = obj._drop_axis(labels, axis, level=level, errors=errors)\n"
     ]
    }
   ],
   "source": [
    "df_agg = df_agg.drop(['TagID', 'DrillID', 'TimeStamp', 'TimeStampDT'], axis = 1)"
   ]
  },
  {
   "cell_type": "code",
   "execution_count": 23,
   "metadata": {},
   "outputs": [],
   "source": [
    "df_agg['Outlier_PositionX'] = ( df_agg['PositionX']['max'] * df_agg['PositionX']['min'] ) >= 0"
   ]
  },
  {
   "cell_type": "code",
   "execution_count": 24,
   "metadata": {},
   "outputs": [],
   "source": [
    "df_mask_X  = df_agg['Outlier_PositionX']==False\n",
    "filtered_X = df_agg[df_mask_X]\n",
    "df_agg     = filtered_X.drop('Outlier_PositionX', axis=1)"
   ]
  },
  {
   "cell_type": "code",
   "execution_count": 25,
   "metadata": {},
   "outputs": [],
   "source": [
    "df_agg.columns = ['_'.join(col_).strip() for col_ in df_agg.columns.values]"
   ]
  },
  {
   "cell_type": "code",
   "execution_count": 26,
   "metadata": {},
   "outputs": [],
   "source": [
    "df_ul = df_agg.copy()"
   ]
  },
  {
   "cell_type": "code",
   "execution_count": 27,
   "metadata": {},
   "outputs": [],
   "source": [
    "df_ul['classifier_'] = np.log( (1 + df_ul['Speed_mean']) / ( 1 + (df_ul['Accel_mean'] * df_ul['diff_time_mean']) ) )"
   ]
  },
  {
   "cell_type": "code",
   "execution_count": 28,
   "metadata": {},
   "outputs": [],
   "source": [
    "df_ul.drop(['diff_time_max', 'Speed_mean'], axis=1, inplace=True)"
   ]
  },
  {
   "cell_type": "code",
   "execution_count": 29,
   "metadata": {},
   "outputs": [],
   "source": [
    "from sklearn.preprocessing import MinMaxScaler\n",
    "min_max           = MinMaxScaler()\n",
    "df_scaled         = pd.DataFrame(min_max.fit_transform(df_ul.astype(\"float64\")))\n",
    "df_scaled.columns = df_ul.columns"
   ]
  },
  {
   "cell_type": "code",
   "execution_count": 30,
   "metadata": {},
   "outputs": [
    {
     "data": {
      "text/plain": [
       "KMeans(algorithm='auto', copy_x=True, init='k-means++', max_iter=300,\n",
       "       n_clusters=3, n_init=10, n_jobs=None, precompute_distances='auto',\n",
       "       random_state=None, tol=0.0001, verbose=0)"
      ]
     },
     "execution_count": 30,
     "metadata": {},
     "output_type": "execute_result"
    }
   ],
   "source": [
    "from sklearn.cluster import KMeans\n",
    "number_of_clusters = 3\n",
    "kmeans             = KMeans(n_clusters = number_of_clusters)\n",
    "kmeans.fit(df_scaled)"
   ]
  },
  {
   "cell_type": "code",
   "execution_count": 31,
   "metadata": {},
   "outputs": [
    {
     "data": {
      "text/plain": [
       "['smart_new_model.pkl']"
      ]
     },
     "execution_count": 31,
     "metadata": {},
     "output_type": "execute_result"
    }
   ],
   "source": [
    "import joblib\n",
    "joblib.dump(kmeans, 'smart_new_model.pkl', compress=9)"
   ]
  },
  {
   "cell_type": "code",
   "execution_count": 32,
   "metadata": {},
   "outputs": [
    {
     "name": "stdout",
     "output_type": "stream",
     "text": [
      "Execution took: 0:05:19 secs (Wall clock time)\n"
     ]
    }
   ],
   "source": [
    "elapsed_time_secs = time.time() - start_time\n",
    "msg = \"Execution took: %s secs (Wall clock time)\" % timedelta(seconds=round(elapsed_time_secs))\n",
    "print(msg)"
   ]
  },
  {
   "cell_type": "code",
   "execution_count": 33,
   "metadata": {},
   "outputs": [
    {
     "name": "stderr",
     "output_type": "stream",
     "text": [
      "[NbConvertApp] Converting notebook smart_model_training.ipynb to pdf\n",
      "[NbConvertApp] Writing 48220 bytes to .\\notebook.tex\n",
      "[NbConvertApp] Building PDF\n",
      "[NbConvertApp] Running xelatex 3 times: ['xelatex', '.\\\\notebook.tex', '-quiet']\n",
      "[NbConvertApp] Running bibtex 1 time: ['bibtex', '.\\\\notebook']\n",
      "[NbConvertApp] WARNING | b had problems, most likely because there were no citations\n",
      "[NbConvertApp] PDF successfully created\n",
      "[NbConvertApp] Writing 39739 bytes to smart_model_training.pdf\n"
     ]
    }
   ],
   "source": [
    "!jupyter nbconvert --to pdf smart_model_training.ipynb"
   ]
  },
  {
   "cell_type": "code",
   "execution_count": null,
   "metadata": {},
   "outputs": [],
   "source": []
  }
 ],
 "metadata": {
  "kernelspec": {
   "display_name": "Python 3",
   "language": "python",
   "name": "python3"
  },
  "language_info": {
   "codemirror_mode": {
    "name": "ipython",
    "version": 3
   },
   "file_extension": ".py",
   "mimetype": "text/x-python",
   "name": "python",
   "nbconvert_exporter": "python",
   "pygments_lexer": "ipython3",
   "version": "3.7.7"
  },
  "varInspector": {
   "cols": {
    "lenName": 16,
    "lenType": 16,
    "lenVar": 40
   },
   "kernels_config": {
    "python": {
     "delete_cmd_postfix": "",
     "delete_cmd_prefix": "del ",
     "library": "var_list.py",
     "varRefreshCmd": "print(var_dic_list())"
    },
    "r": {
     "delete_cmd_postfix": ") ",
     "delete_cmd_prefix": "rm(",
     "library": "var_list.r",
     "varRefreshCmd": "cat(var_dic_list()) "
    }
   },
   "types_to_exclude": [
    "module",
    "function",
    "builtin_function_or_method",
    "instance",
    "_Feature"
   ],
   "window_display": false
  }
 },
 "nbformat": 4,
 "nbformat_minor": 4
}
