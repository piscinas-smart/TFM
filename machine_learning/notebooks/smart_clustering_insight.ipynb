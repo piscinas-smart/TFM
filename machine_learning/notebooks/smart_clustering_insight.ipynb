{
 "cells": [
  {
   "cell_type": "markdown",
   "metadata": {},
   "source": [
    "# S.Ma.R.T. CLUSTERING INSIGHT"
   ]
  },
  {
   "cell_type": "code",
   "execution_count": 1,
   "metadata": {},
   "outputs": [
    {
     "data": {
      "text/html": [
       "<style>.container { width:90% !important; }</style>"
      ],
      "text/plain": [
       "<IPython.core.display.HTML object>"
      ]
     },
     "metadata": {},
     "output_type": "display_data"
    }
   ],
   "source": [
    "from IPython.core.display import display, HTML\n",
    "display(HTML(\"<style>.container { width:90% !important; }</style>\"))"
   ]
  },
  {
   "cell_type": "code",
   "execution_count": 2,
   "metadata": {},
   "outputs": [],
   "source": [
    "import time\n",
    "from datetime import timedelta\n",
    "start_time = time.time()"
   ]
  },
  {
   "cell_type": "code",
   "execution_count": 3,
   "metadata": {},
   "outputs": [],
   "source": [
    "import joblib\n",
    "import numpy  as np\n",
    "import pandas as pd \n",
    "import re\n",
    "import scipy"
   ]
  },
  {
   "cell_type": "code",
   "execution_count": 4,
   "metadata": {},
   "outputs": [],
   "source": [
    "logs          = [\"log_all_data.csv\", \"log_20200124.csv\", \"log_20200201.csv\", \"log_20200202.csv\", \"log_20200203.csv\", \"log_20200204.csv\"]\n",
    "filename_orig = logs[0]\n",
    "ruta          = \"./dataset/\" + filename_orig\n",
    "fecha         = re.search('log_(.*)\\.csv', filename_orig, re.IGNORECASE).group(1)\n",
    "filename_new  = \"smart_predicted_style_{}.csv\".format(fecha)\n",
    "datos         = pd.read_csv(ruta)\n",
    "df_ul         = datos.drop(['TagID_', 'DrillID_', 'TimeStamp_min', 'TimeStamp_max', 'TimeStampDT_min', 'TimeStampDT_max'], axis = 1)"
   ]
  },
  {
   "cell_type": "code",
   "execution_count": 5,
   "metadata": {},
   "outputs": [],
   "source": [
    "from sklearn.preprocessing import MinMaxScaler\n",
    "min_max           = MinMaxScaler()\n",
    "df_scaled         = pd.DataFrame(min_max.fit_transform(df_ul.astype(\"float64\")))\n",
    "df_scaled.columns = df_ul.columns"
   ]
  },
  {
   "cell_type": "code",
   "execution_count": 6,
   "metadata": {},
   "outputs": [],
   "source": [
    "model_clone     = joblib.load('smart_model.pkl')\n",
    "model_clone.fit_predict(df_scaled)\n",
    "datos_labels    = model_clone.labels_\n",
    "datos_centroids = model_clone.cluster_centers_"
   ]
  },
  {
   "cell_type": "code",
   "execution_count": 7,
   "metadata": {},
   "outputs": [],
   "source": [
    "number_of_clusters      = 3\n",
    "col_classifier          = list(df_scaled.columns).index(\"classifier_\")\n",
    "centroids_classifier    = [cc[col_classifier] for cc in datos_centroids]\n",
    "index_min               = centroids_classifier.index(min(centroids_classifier))\n",
    "index_max               = centroids_classifier.index(max(centroids_classifier))\n",
    "lista_labels            = [\"Others\"] * number_of_clusters\n",
    "lista_labels[index_min] = 'Breaststroke'\n",
    "lista_labels[index_max] = 'Front Crawl/Freestyle'"
   ]
  },
  {
   "cell_type": "code",
   "execution_count": 8,
   "metadata": {},
   "outputs": [
    {
     "data": {
      "text/plain": [
       "Prediction\n",
       "Breaststroke              402\n",
       "Front Crawl/Freestyle    2884\n",
       "Others                   1159\n",
       "Name: classifier_, dtype: int64"
      ]
     },
     "execution_count": 8,
     "metadata": {},
     "output_type": "execute_result"
    }
   ],
   "source": [
    "df_scaled['Prediction'] = datos_labels\n",
    "df_scaled['Prediction'] = df_scaled['Prediction'].replace({0: lista_labels[0], \n",
    "                                                           1: lista_labels[1], \n",
    "                                                           2: lista_labels[2]})\n",
    "df_scaled.groupby(['Prediction']).count().iloc[:, -1]"
   ]
  },
  {
   "cell_type": "code",
   "execution_count": 9,
   "metadata": {},
   "outputs": [],
   "source": [
    "insight                       = pd.DataFrame(df_scaled.iloc[:, -1])\n",
    "insight[['TagID', 'DrillID']] = datos[['TagID_', 'DrillID_']]\n",
    "insight                       = insight[['TagID','DrillID','Prediction']]\n",
    "insight.set_index(['TagID','DrillID'], inplace=True)\n",
    "insight.to_csv(filename_new)"
   ]
  },
  {
   "cell_type": "code",
   "execution_count": 10,
   "metadata": {},
   "outputs": [
    {
     "name": "stdout",
     "output_type": "stream",
     "text": [
      "Execution took: 0:00:02 secs (Wall clock time)\n"
     ]
    }
   ],
   "source": [
    "elapsed_time_secs = time.time() - start_time\n",
    "msg = \"Execution took: %s secs (Wall clock time)\" % timedelta(seconds=round(elapsed_time_secs))\n",
    "print(msg)"
   ]
  },
  {
   "cell_type": "code",
   "execution_count": 11,
   "metadata": {},
   "outputs": [
    {
     "name": "stderr",
     "output_type": "stream",
     "text": [
      "[NbConvertApp] Converting notebook smart_clustering_insight.ipynb to pdf\n",
      "[NbConvertApp] Writing 32862 bytes to .\\notebook.tex\n",
      "[NbConvertApp] Building PDF\n",
      "[NbConvertApp] Running xelatex 3 times: ['xelatex', '.\\\\notebook.tex', '-quiet']\n",
      "[NbConvertApp] Running bibtex 1 time: ['bibtex', '.\\\\notebook']\n",
      "[NbConvertApp] WARNING | b had problems, most likely because there were no citations\n",
      "[NbConvertApp] PDF successfully created\n",
      "[NbConvertApp] Writing 29885 bytes to smart_clustering_insight.pdf\n"
     ]
    }
   ],
   "source": [
    "!jupyter nbconvert --to pdf smart_clustering_insight.ipynb"
   ]
  },
  {
   "cell_type": "code",
   "execution_count": null,
   "metadata": {},
   "outputs": [],
   "source": []
  }
 ],
 "metadata": {
  "kernelspec": {
   "display_name": "Python 3",
   "language": "python",
   "name": "python3"
  },
  "language_info": {
   "codemirror_mode": {
    "name": "ipython",
    "version": 3
   },
   "file_extension": ".py",
   "mimetype": "text/x-python",
   "name": "python",
   "nbconvert_exporter": "python",
   "pygments_lexer": "ipython3",
   "version": "3.7.7"
  },
  "varInspector": {
   "cols": {
    "lenName": 16,
    "lenType": 16,
    "lenVar": 40
   },
   "kernels_config": {
    "python": {
     "delete_cmd_postfix": "",
     "delete_cmd_prefix": "del ",
     "library": "var_list.py",
     "varRefreshCmd": "print(var_dic_list())"
    },
    "r": {
     "delete_cmd_postfix": ") ",
     "delete_cmd_prefix": "rm(",
     "library": "var_list.r",
     "varRefreshCmd": "cat(var_dic_list()) "
    }
   },
   "types_to_exclude": [
    "module",
    "function",
    "builtin_function_or_method",
    "instance",
    "_Feature"
   ],
   "window_display": false
  }
 },
 "nbformat": 4,
 "nbformat_minor": 4
}
